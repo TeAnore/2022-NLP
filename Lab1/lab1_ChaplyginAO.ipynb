{
 "cells": [
  {
   "cell_type": "markdown",
   "metadata": {},
   "source": [
    "# Лабораторная работа №1\n",
    "\n",
    "Лабораторную работу необходимо выполнять в ***Google Colab***. Результат работы (в виде ссылки на notebook) выслать письмом на litvinov.vg@ssau.ru. В теме письма указывать ФИО полностью.\n",
    "\n",
    "Для выполнения задания необходимо подобрать корпус текстов (художественных) на английском языке. Объем корпуса должен составлять не менее $3 \\cdot 10^7$ символов. Далее все действия будут выполняться над выбранными данными. Для отладки алгоритмов лучше использовать не весь корпус, а лишь его часть."
   ]
  },
  {
   "cell_type": "code",
   "execution_count": 1,
   "metadata": {},
   "outputs": [
    {
     "data": {
      "text/plain": [
       "'INTRODUCTION\\n\\nIf the world could write by itself, it would write like Tolstoy.\\n\\n—ISAAC BABEL\\n\\nWar and Peace is the most famous and at the same time the most daunting of Russian novels, as vast as Russia itself and as long to cross from one end to the other. Yet if one makes the journey, the sights seen and the people met on the way mark one’s life forever. The book is set in the period of the Napoleonic wars (1805–1812) and tells of the interweaving of historical events with the private lives of two very different families of the Russian nobility—the severe Bolkonskys and the easygoing Rostovs—and of a singular man, reminiscent of the author himself—Count Pierre Bezukhov. It embodies the national myth of “Russia’s glorious period,” as Tolstoy himself called it, in the confrontation of the emperor Napoleon and Field Marshal Kutuzov, and at the same time it challenges that myth and all such myths through the vivid portrayal of the fates of countless ordinary people of the period, men and women, young and old, French as well as Russian, and through the author’s own passionate questioning of the truth of history.\\n\\nTolstoy wrote that he “spent five years of ceaseless and exclusive labor, under the best conditions of life,” working on War and Peace. Those were the years from 1863 to 1868. He was thirty-five when he began. The year before, he had married Sofya Behrs, the daughter of a Moscow doctor, who was eighteen, and they had moved permanently to his estate at Yasnaya Polyana, in Tula province, a hundred and twenty miles south of Moscow. She bore him four children while he worked on the book, was his first reader (or listener), and was in part the model for his heroine, Natasha Rostov.\\n\\nThe orderliness and routine of family life and estate management were not only the best conditions for work, they were also new conditions for Tolstoy. His mother had died when he was two. His father had moved to Moscow with the children in 1830, but died himself seven years later, and the children were eventually taken to Kazan by their aunt. Tolstoy entered Kazan University in 1844 but never graduated; his later attempts to pass examinations at Petersburg University also led to nothing. In 1851, after several years of idle and dissipated life in Moscow and Petersburg, he visited the Caucasus with his brother Nikolai, who was in the army, and there took part in a raid on a Chechen village, which he described a year later in a story entitled “The Raid,” his first attempt to capture the actuality of warfare in words. His experiences in the Caucasus were also reflected in his novel The Cossacks, which he began writing in 1853 but finished only nine years later, and in his very last piece of fiction, the superb short novel Hadji Murad, completed in 1904 but published only posthumously.\\n\\nIn 1852, he joined the army as a noncommissioned officer and served in Wallachia. Two years later he was promoted to ensign and was transferred at his own request to the Crimea, where he fought in the Crimean War and was present at the siege of Sevastopol. His Sevastopol Sketches, which were published in 1855, made him famous in Petersburg social and literary circles. They were a second and fuller attempt at a true depiction of war.\\n\\nDuring his army years, Tolstoy lived like a typical young Russian officer, drinking, gambling, and womanizing. In 1854 he lost the family house in Yasnaya Polyana at cards, and it was dismantled and moved some twenty miles away, leaving only a foundation stone on which Tolstoy later had carved: HERE STOO'"
      ]
     },
     "execution_count": 1,
     "metadata": {},
     "output_type": "execute_result"
    }
   ],
   "source": [
    "preview = 1\n",
    "k = 1000\n",
    "release = 'true'\n",
    "\n",
    "if release == 'true':\n",
    "    with open('book.txt', 'r', encoding=\"utf8\") as f:\n",
    "        text = f.read()\n",
    "else:\n",
    "    with open('lab1_corpus.txt', 'r', encoding=\"utf8\") as f:\n",
    "        text = f.read()\n",
    "\n",
    "text[:round(len(text)*(preview/k))]"
   ]
  },
  {
   "cell_type": "code",
   "execution_count": 2,
   "metadata": {},
   "outputs": [],
   "source": [
    "text_separator = '\\n\\n'\n",
    "text = text.split(text_separator)"
   ]
  },
  {
   "cell_type": "code",
   "execution_count": 3,
   "metadata": {},
   "outputs": [],
   "source": [
    "if release == 'false':\n",
    "    round(len(text)*(preview/k))"
   ]
  },
  {
   "cell_type": "code",
   "execution_count": 4,
   "metadata": {},
   "outputs": [
    {
     "data": {
      "text/plain": [
       "['INTRODUCTION',\n",
       " 'If the world could write by itself, it would write like Tolstoy.',\n",
       " '—ISAAC BABEL',\n",
       " 'War and Peace is the most famous and at the same time the most daunting of Russian novels, as vast as Russia itself and as long to cross from one end to the other. Yet if one makes the journey, the sights seen and the people met on the way mark one’s life forever. The book is set in the period of the Napoleonic wars (1805–1812) and tells of the interweaving of historical events with the private lives of two very different families of the Russian nobility—the severe Bolkonskys and the easygoing Rostovs—and of a singular man, reminiscent of the author himself—Count Pierre Bezukhov. It embodies the national myth of “Russia’s glorious period,” as Tolstoy himself called it, in the confrontation of the emperor Napoleon and Field Marshal Kutuzov, and at the same time it challenges that myth and all such myths through the vivid portrayal of the fates of countless ordinary people of the period, men and women, young and old, French as well as Russian, and through the author’s own passionate questioning of the truth of history.',\n",
       " 'Tolstoy wrote that he “spent five years of ceaseless and exclusive labor, under the best conditions of life,” working on War and Peace. Those were the years from 1863 to 1868. He was thirty-five when he began. The year before, he had married Sofya Behrs, the daughter of a Moscow doctor, who was eighteen, and they had moved permanently to his estate at Yasnaya Polyana, in Tula province, a hundred and twenty miles south of Moscow. She bore him four children while he worked on the book, was his first reader (or listener), and was in part the model for his heroine, Natasha Rostov.',\n",
       " 'The orderliness and routine of family life and estate management were not only the best conditions for work, they were also new conditions for Tolstoy. His mother had died when he was two. His father had moved to Moscow with the children in 1830, but died himself seven years later, and the children were eventually taken to Kazan by their aunt. Tolstoy entered Kazan University in 1844 but never graduated; his later attempts to pass examinations at Petersburg University also led to nothing. In 1851, after several years of idle and dissipated life in Moscow and Petersburg, he visited the Caucasus with his brother Nikolai, who was in the army, and there took part in a raid on a Chechen village, which he described a year later in a story entitled “The Raid,” his first attempt to capture the actuality of warfare in words. His experiences in the Caucasus were also reflected in his novel The Cossacks, which he began writing in 1853 but finished only nine years later, and in his very last piece of fiction, the superb short novel Hadji Murad, completed in 1904 but published only posthumously.',\n",
       " 'In 1852, he joined the army as a noncommissioned officer and served in Wallachia. Two years later he was promoted to ensign and was transferred at his own request to the Crimea, where he fought in the Crimean War and was present at the siege of Sevastopol. His Sevastopol Sketches, which were published in 1855, made him famous in Petersburg social and literary circles. They were a second and fuller attempt at a true depiction of war.',\n",
       " 'During his army years, Tolstoy lived like a typical young Russian officer, drinking, gambling, and womanizing. In 1854 he lost the family house in Yasnaya Polyana at cards, and it was dismantled and moved some twenty miles away, leaving only a foundation stone on which Tolstoy later had carved: HERE STOOD THE HOUSE IN WHICH L. N. TOLSTOY WAS BORN. In 1856 he was promoted to lieutenant but resigned his commission and returned to the estate, where he lived in one of the surviving wings of the house and began to occupy himself with management and the education of the peasant children. By then, besides the works I have already mentioned, he had also published the semi-fictional trilogy Childhood, Boyhood, and Youth.',\n",
       " 'The years from 1857 to 1862 were a time of restlessness and seeking for Tolstoy. He had left Petersburg, disgusted by the literary life there. He made two trips abroad. During the first, in 1857, he forced himself to witness a public execution in Paris, and the sight shook him so deeply that he vowed he would never again serve any government. At the beginning of the second trip, in September 1860, he visited his beloved brother Nikolai, who was dying of tuberculosis in the southern French town of Hy&#232;res. The death and burial of his brother were, he said, “the strongest impression in my life.” In 1861 he returned to Yasnaya Polyana, where he began work on a novel about the Decembrists, a group of young aristocrats and officers who, at the death of the emperor Alexander I in December 1825, rose up in the name of constitutional monarchy, were arrested and either executed or sent to Siberia. This novel would eventually become War and Peace.',\n",
       " 'Tolstoy himself later described the process of its transformation. At first he had wanted to write about a Decembrist on his return from Siberia in 1856, when the exiles were pardoned by Alexander II. In preparation for that, he went back to 1825, the year of the uprising itself, and from there to the childhood and youth of his hero and the others who took part in it. That brought him to the war of 1812, with which he became fascinated, and since those events were directly linked to events of 1805, it was there that he decided to begin. The original title, in the serial publication of the book, was The Year 1805; it was only in 1867 that he changed it to War and Peace, which he may have borrowed from a work by the French socialist thinker Pierre-Joseph Proudhon, whom he had met in Brussels during his second trip abroad. All that remains of the Decembrists in the final version are some slight hints about the futures of Pierre Bezukhov and of Prince Andrei Bolkonsky’s son Nikolenka.',\n",
       " 'The book grew organically as Tolstoy worked on it. In 1865, partly under the influence of Stendhal’s Charterhouse of Parma, he revised the battle scenes he had already written and added new ones, including one of the most important, the description of the battle of Sch&#246;ngraben. Coming across a collection of Masonic texts in the library of the Rumyantsev Museum, he became interested and decided to make Pierre Bezukhov a Mason. He studied the people of Moscow at the theaters, in the clubs, in the streets, looking for the types he needed. A great many of his fictional characters, if not all of them, had real-life models. The old Prince Bolkonsky and the old Count Rostov were drawn from Tolstoy’s grandfathers, Nikolai Rostov and Princess Marya from his parents, Sonya from one of his aunts. The Rostov estate, Otradnoe, is a reflection of Yasnaya Polyana. Tolstoy spent two days on the battlefield of Borodino and made his own map of the disposition of forces, correcting the maps of the historians. He collected a whole library of materials on the Napoleonic wars, many bits of which also found their way into the fabric of the book. His memory for historical minutiae was prodigious. But above all, there is the profusion and precision of sensual detail that brings the world of War and Peace so vividly to life. In his autobiographical sketch, People and Situations (1956), Pasternak wrote of Tolstoy:',\n",
       " '\\nAll his life, at every moment, he possessed the faculty of seeing phenomena in the detached finality of each separate instant, in perfectly distinct outline, as we see only on rare occasions, in childhood, or on the crest of an all-renewing happiness, or in the triumph of a great spiritual victory.',\n",
       " 'To see things like that, our eye must be directed by passion. For it is passion that by its flash illuminates an object, intensifying its appearance.',\n",
       " 'Such passion, the passion of creative contemplation, Tolstoy constantly carried within him. It was precisely in its light that he saw everything in its pristine freshness, in a new way, as if for the first time. The authenticity of what he saw differs so much from what we are used to that it may appear strange to us. But Tolstoy was not seeking that strangeness, was not pursuing it as a goal, still less did he apply it to his works as a literary method.']"
      ]
     },
     "execution_count": 4,
     "metadata": {},
     "output_type": "execute_result"
    }
   ],
   "source": [
    "text[:round(len(text)*(preview/k))]"
   ]
  },
  {
   "cell_type": "markdown",
   "metadata": {},
   "source": [
    "#### Шаг №1\n",
    "Заменить все числа, которые представлены цифрами, их текстовым представлением (т.е. прописью). (1 = one, 23 = twenty three, 1042 = one thousand forty two, и т.п.). Методы библиотек не использовать, алгоритм необходимо написать самостоятельно."
   ]
  },
  {
   "cell_type": "code",
   "execution_count": 5,
   "metadata": {},
   "outputs": [],
   "source": [
    "from typing import List\n",
    "from tqdm import tqdm\n",
    "\n",
    "digit_dictionary = { 0: 'zero', \\\n",
    "                     1: 'one', 2: 'two', 3: 'three', 4: 'four', 5: 'five', \\\n",
    "                     6: 'six', 7: 'seven', 8: 'eight', 9: 'nine', 10: 'ten', \\\n",
    "                    11: 'eleven', 12: 'twelve', 13: 'thirteen', 14: 'fourteen', \\\n",
    "                    15: 'fifteen', 16: 'sixteen', 17: 'seventeen', 18: 'eighteen', \\\n",
    "                    19: 'nineteen', 20: 'twenty', 30: 'thirty', 40: 'forty', \\\n",
    "                    50: 'fifty', 60: 'sixty', 70: 'seventy', 80: 'eighty', \\\n",
    "                    90: 'ninety'}\n",
    "\n",
    "def hundreds_to_words(number: int) -> List[str]:\n",
    "    if number == 0:\n",
    "        return []\n",
    "    \n",
    "    words = []\n",
    "    \n",
    "    hundreds = number // 100\n",
    "    if hundreds != 0:\n",
    "        words.append(digit_dictionary[hundreds])\n",
    "        words.append('hundred')\n",
    "    \n",
    "    decimals = number - hundreds * 100\n",
    "    \n",
    "    if decimals == 0:\n",
    "        return words\n",
    "    \n",
    "    if decimals <= 20:\n",
    "        words.append(digit_dictionary[decimals])\n",
    "    else:\n",
    "        decimal_ = (decimals // 10) * 10\n",
    "        words.append(digit_dictionary[decimal_])\n",
    "        digit = decimals - decimal_\n",
    "        if digit != 0:\n",
    "            words.append(digit_dictionary[digit])\n",
    "            \n",
    "    return words\n",
    "\n",
    "def number_to_words(number: int) -> List[str]:\n",
    "    words = []\n",
    "    if number == 0:\n",
    "        return ['zero']\n",
    "    \n",
    "    if number > 999e9:\n",
    "        raise ValueError()\n",
    "    \n",
    "    remainder = number % 1000\n",
    "    if remainder != 0:\n",
    "        words = hundreds_to_words(remainder) + words\n",
    "    number = number // 1000\n",
    "\n",
    "    remainder = number % 1_000\n",
    "    if remainder != 0:\n",
    "        words = hundreds_to_words(remainder) + ['thousand'] + words\n",
    "    number = number // 1000\n",
    "\n",
    "    remainder = number % 1_000\n",
    "    if remainder != 0:\n",
    "        words = hundreds_to_words(remainder) + ['million'] + words\n",
    "    \n",
    "    return words\n",
    "\n",
    "def replace_numbers(text: str):\n",
    "    chars = []\n",
    "    number = ''\n",
    "    last_is_digit = False\n",
    "    for ch in tqdm(text):\n",
    "        if ch.isdigit():\n",
    "            number += ch\n",
    "            last_is_digit = True\n",
    "            continue\n",
    "        else:\n",
    "            last_is_digit = False\n",
    "        \n",
    "        if not last_is_digit and len(number) != 0:\n",
    "            chars += ' '.join(number_to_words(int(number)))\n",
    "            number = ''\n",
    "            last_is_digit = False\n",
    "        \n",
    "        chars.append(ch)\n",
    "            \n",
    "    return ''.join(chars)"
   ]
  },
  {
   "cell_type": "code",
   "execution_count": 6,
   "metadata": {},
   "outputs": [
    {
     "data": {
      "text/plain": [
       "['INTRODUCTION',\n",
       " 'If the world could write by itself, it would write like Tolstoy.',\n",
       " '—ISAAC BABEL',\n",
       " 'War and Peace is the most famous and at the same time the most daunting of Russian novels, as vast as Russia itself and as long to cross from one end to the other. Yet if one makes the journey, the sights seen and the people met on the way mark one’s life forever. The book is set in the period of the Napoleonic wars (1805–1812) and tells of the interweaving of historical events with the private lives of two very different families of the Russian nobility—the severe Bolkonskys and the easygoing Rostovs—and of a singular man, reminiscent of the author himself—Count Pierre Bezukhov. It embodies the national myth of “Russia’s glorious period,” as Tolstoy himself called it, in the confrontation of the emperor Napoleon and Field Marshal Kutuzov, and at the same time it challenges that myth and all such myths through the vivid portrayal of the fates of countless ordinary people of the period, men and women, young and old, French as well as Russian, and through the author’s own passionate questioning of the truth of history.',\n",
       " 'Tolstoy wrote that he “spent five years of ceaseless and exclusive labor, under the best conditions of life,” working on War and Peace. Those were the years from 1863 to 1868. He was thirty-five when he began. The year before, he had married Sofya Behrs, the daughter of a Moscow doctor, who was eighteen, and they had moved permanently to his estate at Yasnaya Polyana, in Tula province, a hundred and twenty miles south of Moscow. She bore him four children while he worked on the book, was his first reader (or listener), and was in part the model for his heroine, Natasha Rostov.']"
      ]
     },
     "execution_count": 6,
     "metadata": {},
     "output_type": "execute_result"
    }
   ],
   "source": [
    "if release == 'false':\n",
    "    d = []\n",
    "    for i in range(0, len(text[0:100])):\n",
    "        for j in text[i].split():\n",
    "            try:\n",
    "                d.append(int(j))\n",
    "            except ValueError:\n",
    "                pass\n",
    "    print(d)\n",
    "\n",
    "    for i in range(0, len(d)):\n",
    "        print(' '.join(replace_numbers(str(d[i]) + ' ').split()))\n",
    "        \n",
    "text[:5]"
   ]
  },
  {
   "cell_type": "code",
   "execution_count": 7,
   "metadata": {},
   "outputs": [
    {
     "name": "stderr",
     "output_type": "stream",
     "text": [
      "100%|███████████████████████████████████████████████████████████████████| 3556749/3556749 [00:00<00:00, 4648294.17it/s]\n"
     ]
    }
   ],
   "source": [
    "text_no_number = replace_numbers(text_separator.join(text))"
   ]
  },
  {
   "cell_type": "markdown",
   "metadata": {},
   "source": [
    "#### Шаг №2\n",
    "Преобразовать текст к нижнему или верхнему регистру."
   ]
  },
  {
   "cell_type": "code",
   "execution_count": 8,
   "metadata": {},
   "outputs": [],
   "source": [
    "text_no_number = text_no_number.lower()"
   ]
  },
  {
   "cell_type": "code",
   "execution_count": 9,
   "metadata": {},
   "outputs": [],
   "source": [
    "text_no_number = text_no_number.split(text_separator)"
   ]
  },
  {
   "cell_type": "code",
   "execution_count": 10,
   "metadata": {},
   "outputs": [
    {
     "data": {
      "text/plain": [
       "['introduction',\n",
       " 'if the world could write by itself, it would write like tolstoy.',\n",
       " '—isaac babel',\n",
       " 'war and peace is the most famous and at the same time the most daunting of russian novels, as vast as russia itself and as long to cross from one end to the other. yet if one makes the journey, the sights seen and the people met on the way mark one’s life forever. the book is set in the period of the napoleonic wars (one thousand eight hundred five–one thousand eight hundred twelve) and tells of the interweaving of historical events with the private lives of two very different families of the russian nobility—the severe bolkonskys and the easygoing rostovs—and of a singular man, reminiscent of the author himself—count pierre bezukhov. it embodies the national myth of “russia’s glorious period,” as tolstoy himself called it, in the confrontation of the emperor napoleon and field marshal kutuzov, and at the same time it challenges that myth and all such myths through the vivid portrayal of the fates of countless ordinary people of the period, men and women, young and old, french as well as russian, and through the author’s own passionate questioning of the truth of history.',\n",
       " 'tolstoy wrote that he “spent five years of ceaseless and exclusive labor, under the best conditions of life,” working on war and peace. those were the years from one thousand eight hundred sixty three to one thousand eight hundred sixty eight. he was thirty-five when he began. the year before, he had married sofya behrs, the daughter of a moscow doctor, who was eighteen, and they had moved permanently to his estate at yasnaya polyana, in tula province, a hundred and twenty miles south of moscow. she bore him four children while he worked on the book, was his first reader (or listener), and was in part the model for his heroine, natasha rostov.']"
      ]
     },
     "execution_count": 10,
     "metadata": {},
     "output_type": "execute_result"
    }
   ],
   "source": [
    "text_no_number[:5]"
   ]
  },
  {
   "cell_type": "markdown",
   "metadata": {},
   "source": [
    "#### Шаг №3\n",
    "Произвести токенезацию (токенами выступают слова), не учитывая знаки препинания (т.е. необходимо разбить текст на токены (лексемы)):\n",
    "* С помощью nltk.tokenize.RegexpTokenizer (тут необходимо вспомнить регулярные выражения [posix](https://ru.wikibooks.org/wiki/%D0%A0%D0%B5%D0%B3%D1%83%D0%BB%D1%8F%D1%80%D0%BD%D1%8B%D0%B5_%D0%B2%D1%8B%D1%80%D0%B0%D0%B6%D0%B5%D0%BD%D0%B8%D1%8F))."
   ]
  },
  {
   "cell_type": "code",
   "execution_count": 11,
   "metadata": {},
   "outputs": [],
   "source": [
    "from nltk.tokenize import RegexpTokenizer"
   ]
  },
  {
   "cell_type": "code",
   "execution_count": 12,
   "metadata": {},
   "outputs": [],
   "source": [
    "tokenizer = RegexpTokenizer('\\w+')"
   ]
  },
  {
   "cell_type": "code",
   "execution_count": 13,
   "metadata": {},
   "outputs": [
    {
     "data": {
      "text/plain": [
       "['if',\n",
       " 'the',\n",
       " 'world',\n",
       " 'could',\n",
       " 'write',\n",
       " 'by',\n",
       " 'itself',\n",
       " 'it',\n",
       " 'would',\n",
       " 'write',\n",
       " 'like',\n",
       " 'tolstoy']"
      ]
     },
     "execution_count": 13,
     "metadata": {},
     "output_type": "execute_result"
    }
   ],
   "source": [
    "tokenizer.tokenize(text_no_number[1])"
   ]
  },
  {
   "cell_type": "markdown",
   "metadata": {},
   "source": [
    "* С помощью nltk.word_tokenize."
   ]
  },
  {
   "cell_type": "code",
   "execution_count": 14,
   "metadata": {},
   "outputs": [
    {
     "name": "stderr",
     "output_type": "stream",
     "text": [
      "[nltk_data] Downloading package punkt to\n",
      "[nltk_data]     C:\\Users\\Elf\\AppData\\Roaming\\nltk_data...\n",
      "[nltk_data]   Package punkt is already up-to-date!\n"
     ]
    },
    {
     "data": {
      "text/plain": [
       "True"
      ]
     },
     "execution_count": 14,
     "metadata": {},
     "output_type": "execute_result"
    }
   ],
   "source": [
    "import nltk\n",
    "nltk.download('punkt')"
   ]
  },
  {
   "cell_type": "code",
   "execution_count": 15,
   "metadata": {},
   "outputs": [
    {
     "data": {
      "text/plain": [
       "['if',\n",
       " 'the',\n",
       " 'world',\n",
       " 'could',\n",
       " 'write',\n",
       " 'by',\n",
       " 'itself',\n",
       " ',',\n",
       " 'it',\n",
       " 'would',\n",
       " 'write',\n",
       " 'like',\n",
       " 'tolstoy',\n",
       " '.']"
      ]
     },
     "execution_count": 15,
     "metadata": {},
     "output_type": "execute_result"
    }
   ],
   "source": [
    "nltk.word_tokenize(text_no_number[1])"
   ]
  },
  {
   "cell_type": "markdown",
   "metadata": {},
   "source": [
    "#### Шаг №4\n",
    "Произвести частотный анализ слов. Методы библиотек не использовать, т.е. алгоритм необходимо написать самостоятельно. Cохранить результат в выходной csv файл в порядке убывания частот. Формат выходного файла:\n",
    "\n",
    "| Word | Count |\n",
    "| --- | --- |\n",
    "| cat | 1000 |\n",
    "| dog | 300 |\n",
    "| .... | .... |\n",
    "| butterfly | 34 |"
   ]
  },
  {
   "cell_type": "code",
   "execution_count": 16,
   "metadata": {},
   "outputs": [],
   "source": [
    "tokens = nltk.word_tokenize(' '.join(text_no_number))"
   ]
  },
  {
   "cell_type": "code",
   "execution_count": 17,
   "metadata": {},
   "outputs": [
    {
     "data": {
      "text/plain": [
       "['introduction',\n",
       " 'if',\n",
       " 'the',\n",
       " 'world',\n",
       " 'could',\n",
       " 'write',\n",
       " 'by',\n",
       " 'itself',\n",
       " ',',\n",
       " 'it']"
      ]
     },
     "execution_count": 17,
     "metadata": {},
     "output_type": "execute_result"
    }
   ],
   "source": [
    "tokens[:10]"
   ]
  },
  {
   "cell_type": "code",
   "execution_count": 18,
   "metadata": {},
   "outputs": [
    {
     "name": "stdout",
     "output_type": "stream",
     "text": [
      "['introduction', 'if', 'the', 'world', 'could', 'write', 'by', 'itself', 'it', 'would']\n"
     ]
    }
   ],
   "source": [
    "import re\n",
    "\n",
    "w = []\n",
    "for i in range(0, len(tokens)):\n",
    "    tmp = re.findall(\"\\w+\", tokens[i])\n",
    "    #print(tmp)\n",
    "    if len(tmp) > 0:\n",
    "        #print(tmp[0])\n",
    "        w.append(tmp[0])\n",
    "\n",
    "if release == 'false':\n",
    "    print(w[:10])\n",
    "\n",
    "tokens_without_symbols = w\n",
    "print(tokens_without_symbols[:10])"
   ]
  },
  {
   "cell_type": "code",
   "execution_count": 19,
   "metadata": {},
   "outputs": [],
   "source": [
    "counter = dict()\n",
    "for t in tokens_without_symbols:\n",
    "    counter[t] = counter.get(t, 0) + 1"
   ]
  },
  {
   "cell_type": "code",
   "execution_count": 20,
   "metadata": {},
   "outputs": [],
   "source": [
    "pairs = list(zip(counter.keys(), counter.values()))"
   ]
  },
  {
   "cell_type": "code",
   "execution_count": 21,
   "metadata": {},
   "outputs": [],
   "source": [
    "if release == 'false':\n",
    "    pairs"
   ]
  },
  {
   "cell_type": "code",
   "execution_count": 22,
   "metadata": {},
   "outputs": [],
   "source": [
    "pairs = sorted(pairs, key=lambda x: -x[1])"
   ]
  },
  {
   "cell_type": "code",
   "execution_count": 23,
   "metadata": {},
   "outputs": [],
   "source": [
    "import pandas as pd"
   ]
  },
  {
   "cell_type": "code",
   "execution_count": 24,
   "metadata": {},
   "outputs": [],
   "source": [
    "df = pd.DataFrame(data=pairs, columns=['Word', 'Count'])"
   ]
  },
  {
   "cell_type": "code",
   "execution_count": 25,
   "metadata": {},
   "outputs": [],
   "source": [
    "df.to_csv('word_counts.csv', index=False)"
   ]
  },
  {
   "cell_type": "code",
   "execution_count": 26,
   "metadata": {},
   "outputs": [
    {
     "data": {
      "text/html": [
       "<div>\n",
       "<style scoped>\n",
       "    .dataframe tbody tr th:only-of-type {\n",
       "        vertical-align: middle;\n",
       "    }\n",
       "\n",
       "    .dataframe tbody tr th {\n",
       "        vertical-align: top;\n",
       "    }\n",
       "\n",
       "    .dataframe thead th {\n",
       "        text-align: right;\n",
       "    }\n",
       "</style>\n",
       "<table border=\"1\" class=\"dataframe\">\n",
       "  <thead>\n",
       "    <tr style=\"text-align: right;\">\n",
       "      <th></th>\n",
       "      <th>Word</th>\n",
       "      <th>Count</th>\n",
       "    </tr>\n",
       "  </thead>\n",
       "  <tbody>\n",
       "    <tr>\n",
       "      <th>0</th>\n",
       "      <td>the</td>\n",
       "      <td>39867</td>\n",
       "    </tr>\n",
       "    <tr>\n",
       "      <th>1</th>\n",
       "      <td>and</td>\n",
       "      <td>22103</td>\n",
       "    </tr>\n",
       "    <tr>\n",
       "      <th>2</th>\n",
       "      <td>to</td>\n",
       "      <td>17987</td>\n",
       "    </tr>\n",
       "    <tr>\n",
       "      <th>3</th>\n",
       "      <td>of</td>\n",
       "      <td>16269</td>\n",
       "    </tr>\n",
       "    <tr>\n",
       "      <th>4</th>\n",
       "      <td>in</td>\n",
       "      <td>10862</td>\n",
       "    </tr>\n",
       "  </tbody>\n",
       "</table>\n",
       "</div>"
      ],
      "text/plain": [
       "  Word  Count\n",
       "0  the  39867\n",
       "1  and  22103\n",
       "2   to  17987\n",
       "3   of  16269\n",
       "4   in  10862"
      ]
     },
     "execution_count": 26,
     "metadata": {},
     "output_type": "execute_result"
    }
   ],
   "source": [
    "df.head()"
   ]
  },
  {
   "cell_type": "markdown",
   "metadata": {},
   "source": [
    "#### Шаг №5\n",
    "Произвести частотный анализ [N-грам](https://en.wikipedia.org/wiki/N-gram) и сохранить в выходной файл в порядке убывания частот (формат файла аналогичен предыдущему примеру, за исключением столбца Word, который заменяется на N-gram. В этой задаче можно использовать готовые библиотеки (смотрим состав библиотеки [NLTK](https://www.nltk.org/)). Формат выходного файла:\n",
    "\n",
    "| bigram | | Count |\n",
    "| --- | --- | --- |\n",
    "| cat | is | 1000 |\n",
    "| is | a | 300 |\n",
    "| .... | .... | .... |\n",
    "| the | fish | 34 |\n",
    "\n",
    "* Биграм"
   ]
  },
  {
   "cell_type": "code",
   "execution_count": 27,
   "metadata": {},
   "outputs": [],
   "source": [
    "from nltk import ngrams"
   ]
  },
  {
   "cell_type": "code",
   "execution_count": 28,
   "metadata": {},
   "outputs": [],
   "source": [
    "from collections import Counter"
   ]
  },
  {
   "cell_type": "code",
   "execution_count": 29,
   "metadata": {},
   "outputs": [],
   "source": [
    "bigrams = list(ngrams(tokens_without_symbols, 2))"
   ]
  },
  {
   "cell_type": "code",
   "execution_count": 30,
   "metadata": {},
   "outputs": [],
   "source": [
    "bigrams_count = Counter(bigrams)"
   ]
  },
  {
   "cell_type": "code",
   "execution_count": 31,
   "metadata": {},
   "outputs": [],
   "source": [
    "triples = list(zip(bigrams_count.keys(), bigrams_count.values()))\n",
    "triples = list(map(lambda x: (x[0][0], x[0][1], x[1]), triples))"
   ]
  },
  {
   "cell_type": "code",
   "execution_count": 32,
   "metadata": {},
   "outputs": [],
   "source": [
    "triples = sorted(triples, key=lambda x: -x[2])"
   ]
  },
  {
   "cell_type": "code",
   "execution_count": 33,
   "metadata": {},
   "outputs": [],
   "source": [
    "df_bigram = pd.DataFrame(data=triples, columns=['bigram', '', 'Count'])"
   ]
  },
  {
   "cell_type": "code",
   "execution_count": 34,
   "metadata": {},
   "outputs": [],
   "source": [
    "df_bigram.to_csv('bigram_count.csv', index=False)"
   ]
  },
  {
   "cell_type": "code",
   "execution_count": 35,
   "metadata": {},
   "outputs": [
    {
     "data": {
      "text/html": [
       "<div>\n",
       "<style scoped>\n",
       "    .dataframe tbody tr th:only-of-type {\n",
       "        vertical-align: middle;\n",
       "    }\n",
       "\n",
       "    .dataframe tbody tr th {\n",
       "        vertical-align: top;\n",
       "    }\n",
       "\n",
       "    .dataframe thead th {\n",
       "        text-align: right;\n",
       "    }\n",
       "</style>\n",
       "<table border=\"1\" class=\"dataframe\">\n",
       "  <thead>\n",
       "    <tr style=\"text-align: right;\">\n",
       "      <th></th>\n",
       "      <th>bigram</th>\n",
       "      <th></th>\n",
       "      <th>Count</th>\n",
       "    </tr>\n",
       "  </thead>\n",
       "  <tbody>\n",
       "    <tr>\n",
       "      <th>0</th>\n",
       "      <td>of</td>\n",
       "      <td>the</td>\n",
       "      <td>4627</td>\n",
       "    </tr>\n",
       "    <tr>\n",
       "      <th>1</th>\n",
       "      <td>two</td>\n",
       "      <td>hundred</td>\n",
       "      <td>3095</td>\n",
       "    </tr>\n",
       "    <tr>\n",
       "      <th>2</th>\n",
       "      <td>in</td>\n",
       "      <td>the</td>\n",
       "      <td>2958</td>\n",
       "    </tr>\n",
       "    <tr>\n",
       "      <th>3</th>\n",
       "      <td>to</td>\n",
       "      <td>the</td>\n",
       "      <td>2741</td>\n",
       "    </tr>\n",
       "    <tr>\n",
       "      <th>4</th>\n",
       "      <td>hundred</td>\n",
       "      <td>thirty</td>\n",
       "      <td>2435</td>\n",
       "    </tr>\n",
       "  </tbody>\n",
       "</table>\n",
       "</div>"
      ],
      "text/plain": [
       "    bigram           Count\n",
       "0       of      the   4627\n",
       "1      two  hundred   3095\n",
       "2       in      the   2958\n",
       "3       to      the   2741\n",
       "4  hundred   thirty   2435"
      ]
     },
     "execution_count": 35,
     "metadata": {},
     "output_type": "execute_result"
    }
   ],
   "source": [
    "df_bigram.head()"
   ]
  },
  {
   "cell_type": "markdown",
   "metadata": {},
   "source": [
    "* 3-грам"
   ]
  },
  {
   "cell_type": "code",
   "execution_count": 36,
   "metadata": {},
   "outputs": [],
   "source": [
    "trigrams = list(ngrams(tokens_without_symbols, 3))"
   ]
  },
  {
   "cell_type": "code",
   "execution_count": 37,
   "metadata": {},
   "outputs": [],
   "source": [
    "trigrams_count = Counter(trigrams)"
   ]
  },
  {
   "cell_type": "code",
   "execution_count": 38,
   "metadata": {},
   "outputs": [],
   "source": [
    "fours = list(zip(trigrams_count.keys(), trigrams_count.values()))\n",
    "fours = list(map(lambda x: (x[0][0], x[0][1], x[0][2], x[1]), fours))"
   ]
  },
  {
   "cell_type": "code",
   "execution_count": 39,
   "metadata": {},
   "outputs": [],
   "source": [
    "fours = sorted(fours, key=lambda x: -x[3])"
   ]
  },
  {
   "cell_type": "code",
   "execution_count": 40,
   "metadata": {},
   "outputs": [],
   "source": [
    "df_trigram = pd.DataFrame(data=fours, columns=['trigram', '', '', 'Count'])"
   ]
  },
  {
   "cell_type": "code",
   "execution_count": 41,
   "metadata": {},
   "outputs": [],
   "source": [
    "df_trigram.to_csv('trigram_count.csv', index=False)"
   ]
  },
  {
   "cell_type": "code",
   "execution_count": 42,
   "metadata": {},
   "outputs": [
    {
     "data": {
      "text/html": [
       "<div>\n",
       "<style scoped>\n",
       "    .dataframe tbody tr th:only-of-type {\n",
       "        vertical-align: middle;\n",
       "    }\n",
       "\n",
       "    .dataframe tbody tr th {\n",
       "        vertical-align: top;\n",
       "    }\n",
       "\n",
       "    .dataframe thead th {\n",
       "        text-align: right;\n",
       "    }\n",
       "</style>\n",
       "<table border=\"1\" class=\"dataframe\">\n",
       "  <thead>\n",
       "    <tr style=\"text-align: right;\">\n",
       "      <th></th>\n",
       "      <th>trigram</th>\n",
       "      <th></th>\n",
       "      <th></th>\n",
       "      <th>Count</th>\n",
       "    </tr>\n",
       "  </thead>\n",
       "  <tbody>\n",
       "    <tr>\n",
       "      <th>0</th>\n",
       "      <td>two</td>\n",
       "      <td>hundred</td>\n",
       "      <td>thirty</td>\n",
       "      <td>2379</td>\n",
       "    </tr>\n",
       "    <tr>\n",
       "      <th>1</th>\n",
       "      <td>hundred</td>\n",
       "      <td>thirty</td>\n",
       "      <td>three</td>\n",
       "      <td>1516</td>\n",
       "    </tr>\n",
       "    <tr>\n",
       "      <th>2</th>\n",
       "      <td>thousand</td>\n",
       "      <td>eight</td>\n",
       "      <td>hundred</td>\n",
       "      <td>809</td>\n",
       "    </tr>\n",
       "    <tr>\n",
       "      <th>3</th>\n",
       "      <td>return</td>\n",
       "      <td>to</td>\n",
       "      <td>text</td>\n",
       "      <td>761</td>\n",
       "    </tr>\n",
       "    <tr>\n",
       "      <th>4</th>\n",
       "      <td>one</td>\n",
       "      <td>thousand</td>\n",
       "      <td>eight</td>\n",
       "      <td>611</td>\n",
       "    </tr>\n",
       "  </tbody>\n",
       "</table>\n",
       "</div>"
      ],
      "text/plain": [
       "    trigram                     Count\n",
       "0       two   hundred   thirty   2379\n",
       "1   hundred    thirty    three   1516\n",
       "2  thousand     eight  hundred    809\n",
       "3    return        to     text    761\n",
       "4       one  thousand    eight    611"
      ]
     },
     "execution_count": 42,
     "metadata": {},
     "output_type": "execute_result"
    }
   ],
   "source": [
    "df_trigram.head()"
   ]
  },
  {
   "cell_type": "markdown",
   "metadata": {},
   "source": [
    "#### Шаг №6 (аналогично шагу 3)\n",
    "Произвести токенезацию, но уже учитывая знаки препинания:\n",
    "* С помощью nltk.tokenize.RegexpTokenizer."
   ]
  },
  {
   "cell_type": "code",
   "execution_count": 43,
   "metadata": {},
   "outputs": [
    {
     "data": {
      "text/plain": [
       "['if',\n",
       " 'the',\n",
       " 'world',\n",
       " 'could',\n",
       " 'write',\n",
       " 'by',\n",
       " 'itself',\n",
       " ',',\n",
       " 'it',\n",
       " 'would',\n",
       " 'write',\n",
       " 'like',\n",
       " 'tolstoy',\n",
       " '.']"
      ]
     },
     "execution_count": 43,
     "metadata": {},
     "output_type": "execute_result"
    }
   ],
   "source": [
    "tokenizer = RegexpTokenizer('\\w+|\\S+')\n",
    "tokenizer.tokenize(text_no_number[1])"
   ]
  },
  {
   "cell_type": "markdown",
   "metadata": {},
   "source": [
    "* С помощью nltk.word_tokenize."
   ]
  },
  {
   "cell_type": "code",
   "execution_count": 44,
   "metadata": {},
   "outputs": [
    {
     "data": {
      "text/plain": [
       "['if',\n",
       " 'the',\n",
       " 'world',\n",
       " 'could',\n",
       " 'write',\n",
       " 'by',\n",
       " 'itself',\n",
       " ',',\n",
       " 'it',\n",
       " 'would',\n",
       " 'write',\n",
       " 'like',\n",
       " 'tolstoy',\n",
       " '.']"
      ]
     },
     "execution_count": 44,
     "metadata": {},
     "output_type": "execute_result"
    }
   ],
   "source": [
    "nltk.word_tokenize(text_no_number[1])"
   ]
  },
  {
   "cell_type": "markdown",
   "metadata": {},
   "source": [
    "#### Шаг №7 (аналогично шагу 4)\n",
    "Произвести частотный анализ слов, , но уже учитывая знаки препинания:"
   ]
  },
  {
   "cell_type": "code",
   "execution_count": 45,
   "metadata": {},
   "outputs": [],
   "source": [
    "tokens = nltk.word_tokenize(' '.join(text_no_number))"
   ]
  },
  {
   "cell_type": "code",
   "execution_count": 46,
   "metadata": {},
   "outputs": [],
   "source": [
    "counter = dict()\n",
    "for t in tokens:\n",
    "    counter[t] = counter.get(t, 0) + 1"
   ]
  },
  {
   "cell_type": "code",
   "execution_count": 47,
   "metadata": {},
   "outputs": [],
   "source": [
    "pairs = list(zip(counter.keys(), counter.values()))"
   ]
  },
  {
   "cell_type": "code",
   "execution_count": 48,
   "metadata": {},
   "outputs": [],
   "source": [
    "pairs = sorted(pairs, key=lambda x: -x[1])"
   ]
  },
  {
   "cell_type": "code",
   "execution_count": 49,
   "metadata": {},
   "outputs": [],
   "source": [
    "import pandas as pd"
   ]
  },
  {
   "cell_type": "code",
   "execution_count": 50,
   "metadata": {},
   "outputs": [],
   "source": [
    "df = pd.DataFrame(data=pairs, columns=['Word', 'Count'])"
   ]
  },
  {
   "cell_type": "code",
   "execution_count": 51,
   "metadata": {},
   "outputs": [],
   "source": [
    "df.to_csv('word_counts.csv', index=False)"
   ]
  },
  {
   "cell_type": "code",
   "execution_count": 52,
   "metadata": {},
   "outputs": [
    {
     "data": {
      "text/html": [
       "<div>\n",
       "<style scoped>\n",
       "    .dataframe tbody tr th:only-of-type {\n",
       "        vertical-align: middle;\n",
       "    }\n",
       "\n",
       "    .dataframe tbody tr th {\n",
       "        vertical-align: top;\n",
       "    }\n",
       "\n",
       "    .dataframe thead th {\n",
       "        text-align: right;\n",
       "    }\n",
       "</style>\n",
       "<table border=\"1\" class=\"dataframe\">\n",
       "  <thead>\n",
       "    <tr style=\"text-align: right;\">\n",
       "      <th></th>\n",
       "      <th>Word</th>\n",
       "      <th>Count</th>\n",
       "    </tr>\n",
       "  </thead>\n",
       "  <tbody>\n",
       "    <tr>\n",
       "      <th>0</th>\n",
       "      <td>,</td>\n",
       "      <td>56176</td>\n",
       "    </tr>\n",
       "    <tr>\n",
       "      <th>1</th>\n",
       "      <td>the</td>\n",
       "      <td>39857</td>\n",
       "    </tr>\n",
       "    <tr>\n",
       "      <th>2</th>\n",
       "      <td>.</td>\n",
       "      <td>27779</td>\n",
       "    </tr>\n",
       "    <tr>\n",
       "      <th>3</th>\n",
       "      <td>and</td>\n",
       "      <td>22061</td>\n",
       "    </tr>\n",
       "    <tr>\n",
       "      <th>4</th>\n",
       "      <td>to</td>\n",
       "      <td>17971</td>\n",
       "    </tr>\n",
       "  </tbody>\n",
       "</table>\n",
       "</div>"
      ],
      "text/plain": [
       "  Word  Count\n",
       "0    ,  56176\n",
       "1  the  39857\n",
       "2    .  27779\n",
       "3  and  22061\n",
       "4   to  17971"
      ]
     },
     "execution_count": 52,
     "metadata": {},
     "output_type": "execute_result"
    }
   ],
   "source": [
    "df.head()"
   ]
  },
  {
   "cell_type": "markdown",
   "metadata": {},
   "source": [
    "#### Шаг №8 (аналогично шагу 5)\n",
    "Произвести частотный анализ N-грам, но уже учитывая знаки препинания:\n",
    "\n",
    "* Биграм"
   ]
  },
  {
   "cell_type": "code",
   "execution_count": 53,
   "metadata": {},
   "outputs": [],
   "source": [
    "bigrams = list(ngrams(tokens, 2))"
   ]
  },
  {
   "cell_type": "code",
   "execution_count": 54,
   "metadata": {},
   "outputs": [],
   "source": [
    "bigrams_count = Counter(bigrams)"
   ]
  },
  {
   "cell_type": "code",
   "execution_count": 55,
   "metadata": {},
   "outputs": [],
   "source": [
    "triples = list(zip(bigrams_count.keys(), bigrams_count.values()))\n",
    "triples = list(map(lambda x: (x[0][0], x[0][1], x[1]), triples))"
   ]
  },
  {
   "cell_type": "code",
   "execution_count": 56,
   "metadata": {},
   "outputs": [],
   "source": [
    "triples = sorted(triples, key=lambda x: -x[2])"
   ]
  },
  {
   "cell_type": "code",
   "execution_count": 57,
   "metadata": {},
   "outputs": [],
   "source": [
    "df_bigram = pd.DataFrame(data=triples, columns=['bigram', '', 'Count'])"
   ]
  },
  {
   "cell_type": "code",
   "execution_count": 58,
   "metadata": {},
   "outputs": [],
   "source": [
    "df_bigram.to_csv('bigram_count.csv', index=False)"
   ]
  },
  {
   "cell_type": "code",
   "execution_count": 59,
   "metadata": {},
   "outputs": [
    {
     "data": {
      "text/html": [
       "<div>\n",
       "<style scoped>\n",
       "    .dataframe tbody tr th:only-of-type {\n",
       "        vertical-align: middle;\n",
       "    }\n",
       "\n",
       "    .dataframe tbody tr th {\n",
       "        vertical-align: top;\n",
       "    }\n",
       "\n",
       "    .dataframe thead th {\n",
       "        text-align: right;\n",
       "    }\n",
       "</style>\n",
       "<table border=\"1\" class=\"dataframe\">\n",
       "  <thead>\n",
       "    <tr style=\"text-align: right;\">\n",
       "      <th></th>\n",
       "      <th>bigram</th>\n",
       "      <th></th>\n",
       "      <th>Count</th>\n",
       "    </tr>\n",
       "  </thead>\n",
       "  <tbody>\n",
       "    <tr>\n",
       "      <th>0</th>\n",
       "      <td>,</td>\n",
       "      <td>and</td>\n",
       "      <td>7193</td>\n",
       "    </tr>\n",
       "    <tr>\n",
       "      <th>1</th>\n",
       "      <td>’</td>\n",
       "      <td>s</td>\n",
       "      <td>5804</td>\n",
       "    </tr>\n",
       "    <tr>\n",
       "      <th>2</th>\n",
       "      <td>.</td>\n",
       "      <td>“</td>\n",
       "      <td>5700</td>\n",
       "    </tr>\n",
       "    <tr>\n",
       "      <th>3</th>\n",
       "      <td>of</td>\n",
       "      <td>the</td>\n",
       "      <td>4620</td>\n",
       "    </tr>\n",
       "    <tr>\n",
       "      <th>4</th>\n",
       "      <td>,</td>\n",
       "      <td>”</td>\n",
       "      <td>3126</td>\n",
       "    </tr>\n",
       "  </tbody>\n",
       "</table>\n",
       "</div>"
      ],
      "text/plain": [
       "  bigram       Count\n",
       "0      ,  and   7193\n",
       "1      ’    s   5804\n",
       "2      .    “   5700\n",
       "3     of  the   4620\n",
       "4      ,    ”   3126"
      ]
     },
     "execution_count": 59,
     "metadata": {},
     "output_type": "execute_result"
    }
   ],
   "source": [
    "df_bigram.head()"
   ]
  },
  {
   "cell_type": "markdown",
   "metadata": {},
   "source": [
    "* 3-грам"
   ]
  },
  {
   "cell_type": "code",
   "execution_count": 60,
   "metadata": {},
   "outputs": [],
   "source": [
    "trigrams = list(ngrams(tokens, 3))"
   ]
  },
  {
   "cell_type": "code",
   "execution_count": 61,
   "metadata": {},
   "outputs": [],
   "source": [
    "trigrams_count = Counter(trigrams)"
   ]
  },
  {
   "cell_type": "code",
   "execution_count": 62,
   "metadata": {},
   "outputs": [],
   "source": [
    "fours = list(zip(trigrams_count.keys(), trigrams_count.values()))\n",
    "fours = list(map(lambda x: (x[0][0], x[0][1], x[0][2], x[1]), fours))"
   ]
  },
  {
   "cell_type": "code",
   "execution_count": 63,
   "metadata": {},
   "outputs": [],
   "source": [
    "fours = sorted(fours, key=lambda x: -x[3])"
   ]
  },
  {
   "cell_type": "code",
   "execution_count": 64,
   "metadata": {},
   "outputs": [],
   "source": [
    "df_trigram = pd.DataFrame(data=fours, columns=['trigram', '', '', 'Count'])"
   ]
  },
  {
   "cell_type": "code",
   "execution_count": 65,
   "metadata": {},
   "outputs": [],
   "source": [
    "df_trigram.to_csv('trigram_count.csv', index=False)"
   ]
  },
  {
   "cell_type": "code",
   "execution_count": 66,
   "metadata": {},
   "outputs": [
    {
     "data": {
      "text/html": [
       "<div>\n",
       "<style scoped>\n",
       "    .dataframe tbody tr th:only-of-type {\n",
       "        vertical-align: middle;\n",
       "    }\n",
       "\n",
       "    .dataframe tbody tr th {\n",
       "        vertical-align: top;\n",
       "    }\n",
       "\n",
       "    .dataframe thead th {\n",
       "        text-align: right;\n",
       "    }\n",
       "</style>\n",
       "<table border=\"1\" class=\"dataframe\">\n",
       "  <thead>\n",
       "    <tr style=\"text-align: right;\">\n",
       "      <th></th>\n",
       "      <th>trigram</th>\n",
       "      <th></th>\n",
       "      <th></th>\n",
       "      <th>Count</th>\n",
       "    </tr>\n",
       "  </thead>\n",
       "  <tbody>\n",
       "    <tr>\n",
       "      <th>0</th>\n",
       "      <td>&amp;</td>\n",
       "      <td>#</td>\n",
       "      <td>two</td>\n",
       "      <td>3074</td>\n",
       "    </tr>\n",
       "    <tr>\n",
       "      <th>1</th>\n",
       "      <td>#</td>\n",
       "      <td>two</td>\n",
       "      <td>hundred</td>\n",
       "      <td>3074</td>\n",
       "    </tr>\n",
       "    <tr>\n",
       "      <th>2</th>\n",
       "      <td>two</td>\n",
       "      <td>hundred</td>\n",
       "      <td>thirty</td>\n",
       "      <td>2379</td>\n",
       "    </tr>\n",
       "    <tr>\n",
       "      <th>3</th>\n",
       "      <td>hundred</td>\n",
       "      <td>thirty</td>\n",
       "      <td>three</td>\n",
       "      <td>1516</td>\n",
       "    </tr>\n",
       "    <tr>\n",
       "      <th>4</th>\n",
       "      <td>thirty</td>\n",
       "      <td>three</td>\n",
       "      <td>;</td>\n",
       "      <td>1513</td>\n",
       "    </tr>\n",
       "  </tbody>\n",
       "</table>\n",
       "</div>"
      ],
      "text/plain": [
       "   trigram                    Count\n",
       "0        &        #      two   3074\n",
       "1        #      two  hundred   3074\n",
       "2      two  hundred   thirty   2379\n",
       "3  hundred   thirty    three   1516\n",
       "4   thirty    three        ;   1513"
      ]
     },
     "execution_count": 66,
     "metadata": {},
     "output_type": "execute_result"
    }
   ],
   "source": [
    "df_trigram.head()"
   ]
  },
  {
   "cell_type": "markdown",
   "metadata": {},
   "source": [
    "#### Шаг №9 (используя результаты 5-го шага)\n",
    "Произвести генерацию текса на основе частот биграм."
   ]
  },
  {
   "cell_type": "code",
   "execution_count": 67,
   "metadata": {},
   "outputs": [],
   "source": [
    "from nltk.lm import MLE\n",
    "import numpy as np\n",
    "lm = MLE(2)"
   ]
  },
  {
   "cell_type": "code",
   "execution_count": 68,
   "metadata": {},
   "outputs": [],
   "source": [
    "class BigramModel:\n",
    "    def __init__(self, vocab: list):\n",
    "        self.word_to_idx = dict([(w, i) for i, w in enumerate(vocab)])\n",
    "        self.idx_to_word = dict([(i, w) for w, i in self.word_to_idx.items()])\n",
    "        self.idx_to_word[-1] = '<unk>'\n",
    "        self.n = len(vocab)\n",
    "        self.w = np.empty((self.n + 1, self.n + 1), dtype='float32')\n",
    "    \n",
    "    def fit(self, text):\n",
    "        tokens = nltk.word_tokenize(' '.join(text))\n",
    "        bigrams = list(ngrams(tokens, 2))\n",
    "        bigrams_count = Counter(bigrams)\n",
    "        \n",
    "        for (w1, w2), c in bigrams_count.items():\n",
    "            idx1 = self.word_to_idx.get(w1, -1)\n",
    "            idx2 = self.word_to_idx.get(w2, -1)\n",
    "            self.w[idx1, idx2] = float(c)\n",
    "        \n",
    "        self.w += 1.0\n",
    "        self.w = self.w / self.w.sum(axis=1, keepdims=True)\n",
    "    \n",
    "    def sample(self, seed_word, n=5):\n",
    "        text = [seed_word]\n",
    "        last_word = seed_word\n",
    "        indices = np.arange(0, self.n, dtype='int32')\n",
    "        for i in range(n):\n",
    "            idx1 = self.word_to_idx.get(last_word, -1)\n",
    "            dist = self.w[idx1]\n",
    "            idx2 = np.random.choice(indices, p=dist[:-1])\n",
    "            last_word = self.idx_to_word[idx2]\n",
    "            text.append(last_word)\n",
    "        return text"
   ]
  },
  {
   "cell_type": "code",
   "execution_count": 69,
   "metadata": {},
   "outputs": [
    {
     "data": {
      "text/plain": [
       "[(',', 56176),\n",
       " ('the', 39857),\n",
       " ('.', 27779),\n",
       " ('and', 22061),\n",
       " ('to', 17971),\n",
       " ('of', 16258),\n",
       " ('’', 10976),\n",
       " ('in', 10854),\n",
       " ('a', 10540),\n",
       " ('he', 9756)]"
      ]
     },
     "execution_count": 69,
     "metadata": {},
     "output_type": "execute_result"
    }
   ],
   "source": [
    "pairs[:10]"
   ]
  },
  {
   "cell_type": "code",
   "execution_count": 70,
   "metadata": {},
   "outputs": [
    {
     "name": "stdout",
     "output_type": "stream",
     "text": [
      "['introduction', 'if', 'the', 'world', 'could', 'write', 'by', 'itself', 'it', 'would']\n"
     ]
    }
   ],
   "source": [
    "import re\n",
    "\n",
    "w = []\n",
    "for i in range(0, len(pairs)):\n",
    "    tmp = re.findall(\"\\w+\", pairs[i][0])\n",
    "    #print(tmp)\n",
    "    if len(tmp) > 0 and len(pairs[i][0]) > 2:\n",
    "        #print(tmp[0])\n",
    "        w.append(pairs[i])\n",
    "\n",
    "if release == 'false':\n",
    "    print(w[:10])\n",
    "\n",
    "pairs = w\n",
    "print(tokens_without_symbols[:10])"
   ]
  },
  {
   "cell_type": "code",
   "execution_count": 71,
   "metadata": {},
   "outputs": [
    {
     "data": {
      "text/plain": [
       "[('the', 39857),\n",
       " ('and', 22061),\n",
       " ('that', 8405),\n",
       " ('his', 8130),\n",
       " ('was', 8089),\n",
       " ('with', 6277),\n",
       " ('him', 4830),\n",
       " ('not', 4743),\n",
       " ('her', 4729),\n",
       " ('had', 4577)]"
      ]
     },
     "execution_count": 71,
     "metadata": {},
     "output_type": "execute_result"
    }
   ],
   "source": [
    "pairs[:10]"
   ]
  },
  {
   "cell_type": "code",
   "execution_count": 72,
   "metadata": {},
   "outputs": [
    {
     "data": {
      "text/plain": [
       "['the', 'and', 'that', 'his', 'was', 'with', 'him', 'not', 'her', 'had']"
      ]
     },
     "execution_count": 72,
     "metadata": {},
     "output_type": "execute_result"
    }
   ],
   "source": [
    "vocab = [w for w, i in pairs]\n",
    "vocab[:10]"
   ]
  },
  {
   "cell_type": "code",
   "execution_count": 73,
   "metadata": {},
   "outputs": [
    {
     "data": {
      "text/plain": [
       "6068"
      ]
     },
     "execution_count": 73,
     "metadata": {},
     "output_type": "execute_result"
    }
   ],
   "source": [
    "quarter = round(len(vocab) * 0.25)\n",
    "quarter"
   ]
  },
  {
   "cell_type": "code",
   "execution_count": 74,
   "metadata": {},
   "outputs": [],
   "source": [
    "model = BigramModel(vocab[:quarter])"
   ]
  },
  {
   "cell_type": "code",
   "execution_count": 75,
   "metadata": {},
   "outputs": [],
   "source": [
    "model.fit(' '.join(text_no_number))"
   ]
  },
  {
   "cell_type": "code",
   "execution_count": 76,
   "metadata": {},
   "outputs": [
    {
     "data": {
      "text/plain": [
       "['the', 'voronezh', 'respected', 'charters', 'almost', 'twenty-fourth']"
      ]
     },
     "execution_count": 76,
     "metadata": {},
     "output_type": "execute_result"
    }
   ],
   "source": [
    "model.sample('the')"
   ]
  }
 ],
 "metadata": {
  "kernelspec": {
   "display_name": "Python 3",
   "language": "python",
   "name": "python3"
  },
  "language_info": {
   "codemirror_mode": {
    "name": "ipython",
    "version": 3
   },
   "file_extension": ".py",
   "mimetype": "text/x-python",
   "name": "python",
   "nbconvert_exporter": "python",
   "pygments_lexer": "ipython3",
   "version": "3.10.7 (tags/v3.10.7:6cc6b13, Sep  5 2022, 14:08:36) [MSC v.1933 64 bit (AMD64)]"
  },
  "vscode": {
   "interpreter": {
    "hash": "ee12846d0a50fa43bee09eeb811bd3418827c68091b7f9165e9cb940bcf8d093"
   }
  }
 },
 "nbformat": 4,
 "nbformat_minor": 4
}
